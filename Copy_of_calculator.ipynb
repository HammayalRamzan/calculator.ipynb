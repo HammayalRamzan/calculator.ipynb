{
  "cells": [
    {
      "cell_type": "markdown",
      "metadata": {
        "id": "view-in-github",
        "colab_type": "text"
      },
      "source": [
        "<a href=\"https://colab.research.google.com/github/HammayalRamzan/calculator.ipynb/blob/main/Copy_of_calculator.ipynb\" target=\"_parent\"><img src=\"https://colab.research.google.com/assets/colab-badge.svg\" alt=\"Open In Colab\"/></a>"
      ]
    },
    {
      "cell_type": "code",
      "execution_count": null,
      "metadata": {
        "colab": {
          "background_save": true,
          "base_uri": "https://localhost:8080/"
        },
        "id": "xgQ_V8HgtWuV",
        "outputId": "fe8abd70-6b13-44b4-c334-ba851a4ca638"
      },
      "outputs": [
        {
          "name": "stdout",
          "output_type": "stream",
          "text": [
            "Select an option\n",
            "1, Addition\n",
            "2, Subtraction\n",
            "3, Multiply\n",
            "4, Divide\n",
            "5, Exit\n",
            "subtraction of two numbers 2 and 4 is-> -2\n",
            "Multiply of two numbers 2 and 4 is-> 8\n",
            "Addition of two numbers 2 and 4 is-> 6\n",
            "Divide of two numbers 2 and 4 is-> 0.5\n",
            "Thank you: \n"
          ]
        }
      ],
      "source": [
        "# Python program to make a simple calculator using functions\n",
        "def add(x,y):\n",
        "    return(x+y)\n",
        "\n",
        "def subtract(x,y):\n",
        "    return(x-y)\n",
        "\n",
        "def multiply(x,y):\n",
        "    return(x*y)\n",
        "\n",
        "def divide(x,y):\n",
        "    return(x/y)\n",
        "\n",
        "number_1=int(input(\"Enter first numbers->\"))\n",
        "number_2=int(input(\"Enter second numbers->\"))\n",
        "\n",
        "# Select option\n",
        "print(\"Select an option\")\n",
        "print('1, Addition')\n",
        "print('2, Subtraction')\n",
        "print('3, Multiply')\n",
        "print('4, Divide')\n",
        "print('5, Exit')\n",
        "\n",
        "# using loops\n",
        "while (True):\n",
        "    choice=int(input(\"Enter the choice from(1/2/3/4/5)-->\"))\n",
        "    if choice in [1,2,3,4,5]:\n",
        "        if choice==1:\n",
        "            print(\"Addition of two numbers\" ,number_1,\"and\",number_2,\"is->\",add(number_1,number_2))\n",
        "        elif choice==2:\n",
        "            print(\"subtraction of two numbers\",number_1,\"and\",number_2,\"is->\",subtract(number_1,number_2))\n",
        "        elif choice==3:\n",
        "            print(\"Multiply of two numbers\",number_1,\"and\",number_2,\"is->\",multiply(number_1,number_2))\n",
        "        elif choice==4:\n",
        "            print(\"Divide of two numbers\",number_1,\"and\",number_2,\"is->\",divide(number_1,number_2))\n",
        "        elif choice==5:\n",
        "             print(\"Thank you: \")\n",
        "             exit()\n",
        "\n",
        "\n"
      ]
    }
  ],
  "metadata": {
    "colab": {
      "provenance": [],
      "mount_file_id": "14WXXcMjk4e4c3-bJ73K6UczYP0AU2eDP",
      "authorship_tag": "ABX9TyPF3NaiBbR8nr2cfTzQ2C6Q",
      "include_colab_link": true
    },
    "kernelspec": {
      "display_name": "Python 3",
      "name": "python3"
    },
    "language_info": {
      "name": "python"
    }
  },
  "nbformat": 4,
  "nbformat_minor": 0
}